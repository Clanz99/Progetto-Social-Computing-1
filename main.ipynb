{
 "cells": [
  {
   "cell_type": "markdown",
   "source": [
    "# PROGETTO 1 SOCIAL COMPUTING\n",
    "\n",
    "## 1. DOWNLOAD FOLLOWER E FOLLOWING\n",
    "Scaricate utenti followers (api.followers) e utenti following (api.friends) di\n",
    "questi cinque account (i dati numerici potrebbero subire minime variazioni):\n",
    "\t- @mizzaro - 156 Follower - 331 Following\n",
    "\t- @damiano10 - 785 Follower - 836 Following\n",
    "\t- @Miccighel_ - 331 Follower - 211 Following\n",
    "\t- @eglu81 - 540 Follower - 621 Following\n",
    "\t- @KevinRoitero - 103 Follower - 256 Following"
   ],
   "metadata": {
    "collapsed": false,
    "pycharm": {
     "name": "#%% md\n"
    }
   }
  },
  {
   "cell_type": "code",
   "execution_count": null,
   "metadata": {
    "collapsed": true
   },
   "outputs": [],
   "source": [
    "from config import *\n",
    "from utility import *\n",
    "import os\n",
    "import json\n",
    "import pprint\n",
    "import tweepy\n",
    "\n",
    "pp = pprint.PrettyPrinter()\n",
    "\n",
    "auth = tweepy.OAuthHandler(consumer_key, consumer_secret)\n",
    "auth.set_access_token(access_token, access_secret)\n",
    "api = tweepy.API(auth, wait_on_rate_limit=True, wait_on_rate_limit_notify=True)\n",
    "if(api.verify_credentials):\n",
    "    print('Authentication completed succesfully!')\n",
    "\n",
    "#Serializzazione JSON\n",
    "data_folder = \"data\"\n",
    "\n",
    "def serialize_json(folder, filename, data):\n",
    "    if not os.path.exists(folder):\n",
    "        os.makedirs(folder, exist_ok=True)\n",
    "    with open(f\"{folder}/{filename}\", \"w\", encoding=\"utf-8\") as f:\n",
    "        json.dump(data, f, ensure_ascii=False, indent=4)\n",
    "    print(f\"Data serialized to path: {folder}/{filename}\")\n",
    "\n",
    "def read_json(path):\n",
    "    if os.path.exists(path):\n",
    "        with open(path, \"r\", encoding=\"utf-8\") as file:\n",
    "            data = json.load(file)\n",
    "        print(f\"Data read from path: {path}\")\n",
    "        return data\n",
    "    else:\n",
    "        print(f\"No data found at path: {path}\")\n",
    "        return {}\n",
    "\n",
    "def getFollowers(account, path):\n",
    "    followers_of_account = []\n",
    "\n",
    "    for item in tweepy.Cursor(\n",
    "            api.followers,\n",
    "            screen_name=account,\n",
    "            skip_status=True,\n",
    "            include_user_entities=False\n",
    "    ).items(500):\n",
    "\n",
    "        json_data = item._json\n",
    "\n",
    "        found_follower = {}\n",
    "        found_follower[\"id\"] = json_data[\"id\"]\n",
    "        found_follower[\"name\"] = json_data[\"name\"]\n",
    "        found_follower[\"screen_name\"] = json_data[\"screen_name\"]\n",
    "        found_follower[\"location\"] = json_data[\"location\"]\n",
    "        if found_follower not in followers_of_account:\n",
    "            followers_of_account.append(found_follower)\n",
    "        print(f\"Processing Follower {len(followers_of_account)} of account: {account}\")\n",
    "\n",
    "    serialize_json(data_folder, path, followers_of_account)\n",
    "\n",
    "def getFollowing(account, path):\n",
    "    followings_of_account = []\n",
    "\n",
    "    for item in tweepy.Cursor(\n",
    "            api.friends,\n",
    "            screen_name=account,\n",
    "            skip_status=True,\n",
    "            include_user_entities=False\n",
    "    ).items():\n",
    "\n",
    "        json_data = item._json\n",
    "\n",
    "        found_following = {}\n",
    "        found_following[\"id\"] = json_data[\"id\"]\n",
    "        found_following[\"name\"] = json_data[\"name\"]\n",
    "        found_following[\"screen_name\"] = json_data[\"screen_name\"]\n",
    "        found_following[\"location\"] = json_data[\"location\"]\n",
    "        if found_following not in followings_of_account:\n",
    "            followings_of_account.append(found_following)\n",
    "        print(f\"Processing Following {len(followings_of_account)} of account: {account}\")\n",
    "\n",
    "    serialize_json(data_folder, path, followings_of_account)"
   ]
  },
  {
   "cell_type": "code",
   "execution_count": null,
   "outputs": [],
   "source": [
    "getFollowers(\"mizzaro\", \"mizzaroFollowers.json\")"
   ],
   "metadata": {
    "collapsed": false,
    "pycharm": {
     "name": "#%%\n"
    }
   }
  },
  {
   "cell_type": "code",
   "execution_count": null,
   "outputs": [],
   "source": [
    "getFollowers(\"damiano10\", \"damiano10Followers.json\")"
   ],
   "metadata": {
    "collapsed": false,
    "pycharm": {
     "name": "#%%\n"
    }
   }
  },
  {
   "cell_type": "code",
   "execution_count": null,
   "outputs": [],
   "source": [
    "getFollowers(\"Miccighel_\", \"Miccighel_Followers.json\")"
   ],
   "metadata": {
    "collapsed": false,
    "pycharm": {
     "name": "#%%\n",
     "is_executing": true
    }
   }
  },
  {
   "cell_type": "code",
   "execution_count": null,
   "outputs": [],
   "source": [
    "getFollowers(\"eglu81\", \"eglu81Followers.json\")"
   ],
   "metadata": {
    "collapsed": false,
    "pycharm": {
     "name": "#%%\n"
    }
   }
  },
  {
   "cell_type": "code",
   "execution_count": null,
   "outputs": [],
   "source": [
    "getFollowers(\"KevinRoitero\", \"KevinRoiteroFollowers.json\")"
   ],
   "metadata": {
    "collapsed": false,
    "pycharm": {
     "name": "#%%\n"
    }
   }
  },
  {
   "cell_type": "code",
   "execution_count": null,
   "outputs": [],
   "source": [
    "getFollowing(\"mizzaro\", \"mizzaroFollowers.json\")"
   ],
   "metadata": {
    "collapsed": false,
    "pycharm": {
     "name": "#%%\n"
    }
   }
  },
  {
   "cell_type": "code",
   "execution_count": null,
   "outputs": [],
   "source": [
    "getFollowing(\"damiano10\", \"damiano10Followers.json\")"
   ],
   "metadata": {
    "collapsed": false,
    "pycharm": {
     "name": "#%%\n"
    }
   }
  },
  {
   "cell_type": "code",
   "execution_count": null,
   "outputs": [],
   "source": [
    "getFollowing(\"Miccighel_\", \"Miccighel_Followers.json\")"
   ],
   "metadata": {
    "collapsed": false,
    "pycharm": {
     "name": "#%%\n"
    }
   }
  },
  {
   "cell_type": "code",
   "execution_count": null,
   "outputs": [],
   "source": [
    "getFollowing(\"eglu81\", \"eglu81Followers.json\")"
   ],
   "metadata": {
    "collapsed": false,
    "pycharm": {
     "name": "#%%\n"
    }
   }
  },
  {
   "cell_type": "code",
   "execution_count": null,
   "outputs": [],
   "source": [
    "getFollowing(\"KevinRoitero\", \"KevinRoiteroFollowings.json\")"
   ],
   "metadata": {
    "collapsed": false,
    "pycharm": {
     "name": "#%%\n"
    }
   }
  },
  {
   "cell_type": "markdown",
   "source": [
    "## 2. CINQUE UTENTI RANDOM FOLLOWERS\n",
    "Scegliete 5 utenti followers a caso tra quelli di ciascuno dei cinque account e\n",
    "scaricate ulteriori 10 utenti followers (followers dei followers)\n",
    "\n"
   ],
   "metadata": {
    "collapsed": false,
    "pycharm": {
     "name": "#%% md\n"
    }
   }
  },
  {
   "cell_type": "code",
   "execution_count": null,
   "outputs": [],
   "source": [
    "import random\n",
    "\n",
    "def randomize(read_path, save_path):\n",
    "    data_account = read_json(read_path)\n",
    "    random_account = []\n",
    "    number_of_account = len(data_account)\n",
    "    print(f\"Followers: {number_of_account}\")\n",
    "    for x in range(5):\n",
    "        rand = random.randint(0,number_of_account-1)\n",
    "        #pp.pprint(rand)\n",
    "        pp.pprint(data_account[rand])\n",
    "        if data_account[rand] not in random_account:\n",
    "            random_account.append(data_account[rand])\n",
    "        else:\n",
    "            x = x-1\n",
    "\n",
    "    serialize_json(data_folder, save_path, random_account)\n",
    "\n",
    "\n",
    "randomize(\"data/KevinRoiteroFollowers.json\", \"KevinRoiteroRandomFollowers.json\")\n"
   ],
   "metadata": {
    "collapsed": false,
    "pycharm": {
     "name": "#%%\n"
    }
   }
  },
  {
   "cell_type": "markdown",
   "source": [
    "## 3. CINQUE UTENTI RANDOM FOLLOWING\n",
    "Scegliete 5 utenti following a caso tra quelli di ciascuno dei cinque account e\n",
    "scaricate ulteriori 10 utenti following (following dei following)\n"
   ],
   "metadata": {
    "collapsed": false
   }
  },
  {
   "cell_type": "markdown",
   "source": [
    "## 4. DETTAGLI PROFILI\n",
    "Scaricare i dettagli del profilo di tutti gli utenti recuperati\n"
   ],
   "metadata": {
    "collapsed": false
   }
  },
  {
   "cell_type": "markdown",
   "source": [
    "## 5. COSTRUIRE RETE SOCIALE\n",
    "Costruite la rete sociale (grafo):\n",
    "\t- Inserite l’id di ciascun utente come identificatore del nodo\n",
    "\t- Ogni arco rappresenta una relazione follows tra due utenti\n",
    "\t- Inserite i dettagli del profilo di ciascun utente come attributi del nodo\n",
    "\t- Inserite i membri del vostro gruppo come attributi del grafo\n",
    "\t- Per ogni nodo, aggiungete un attributo con il numero di follower individuati\n",
    "## 6.\n",
    "Producete una visualizzazione interattiva del grafo usando pyvis\n",
    "## 7.\n",
    "Verificate se il grafo:\n",
    "\t- è connesso (is_connected)\n",
    "\t- è bipartito (is_bipartite)\n",
    "## 8.\n",
    "Misurate le seguenti distanze sul grafo:\n",
    "\t- Centro (center)\n",
    "\t- Diametro (diameter)\n",
    "\t- Raggio (radius)\n",
    "## 9.\n",
    "Calcolate le seguenti misure di centralità sul grafo:\n",
    "\t- Betweenness centrality (betweenness_centrality)\n",
    "\t- Closeness centrality (closeness_centrality)\n",
    "\t- Degree centrality (degree_centrality)\n",
    "\t- In-degree centrality (in_degree_centrality)\n",
    "\t- Out-degree centrality (out_degree_centrality)\n",
    "\t- Page Rank (pagerank)\n",
    "\t- HITS (hits)\n",
    "## 10.\n",
    "Generate il sottografo indotto dal nodo damiano10 (ego_graph) e calcolate:\n",
    "\t- Cricca massima (max_clique)\n",
    "\t- Dimensione della cricca massima (large_clique_size)\n",
    "## 11.\n",
    "Calcolate la copertura minima degli archi (min_edge_cover) del grafo\n",
    "## 12.\n",
    "Calcolate i seguenti coefficienti per stimare la “small-world-ness” del grafo:\n",
    "\t- Coefficiente omega (omega)\n",
    "\t- Coefficiente sigma (sigma)\n",
    "## 13.\n",
    "Calcolare la correlazione di Pearson Rho e di Kendall Tau fra le misure di centralità;\n",
    "riportare il risultato in due tabelle"
   ],
   "metadata": {
    "collapsed": false
   }
  }
 ],
 "metadata": {
  "kernelspec": {
   "display_name": "Python 3",
   "language": "python",
   "name": "python3"
  },
  "language_info": {
   "codemirror_mode": {
    "name": "ipython",
    "version": 2
   },
   "file_extension": ".py",
   "mimetype": "text/x-python",
   "name": "python",
   "nbconvert_exporter": "python",
   "pygments_lexer": "ipython2",
   "version": "2.7.6"
  }
 },
 "nbformat": 4,
 "nbformat_minor": 0
}