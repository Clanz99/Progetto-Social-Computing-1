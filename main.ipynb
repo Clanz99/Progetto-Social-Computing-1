{
 "cells": [
  {
   "cell_type": "markdown",
   "source": [
    "# PROGETTO 1 SOCIAL COMPUTING\n"
   ],
   "metadata": {
    "collapsed": false,
    "pycharm": {
     "name": "#%% md\n"
    }
   }
  },
  {
   "cell_type": "code",
   "execution_count": null,
   "metadata": {
    "collapsed": true
   },
   "outputs": [],
   "source": [
    "from config import *\n",
    "from utility import *\n",
    "import os\n",
    "import json\n",
    "import pprint\n",
    "import tweepy\n",
    "\n",
    "auth = tweepy.OAuthHandler(consumer_key, consumer_secret)\n",
    "auth.set_access_token(access_token, access_secret)\n",
    "api = tweepy.API(auth, wait_on_rate_limit=True, wait_on_rate_limit_notify=True)\n",
    "if(api.verify_credentials):\n",
    "    print('Authentication completed succesfully!')\n",
    "\n",
    "\n",
    "\n",
    "def getFollowers(account, path):\n",
    "    followers_of_account = []\n",
    "\n",
    "    for item in tweepy.Cursor(\n",
    "            api.followers,\n",
    "            screen_name=account,\n",
    "            skip_status=True,\n",
    "            include_user_entities=False\n",
    "    ).items():\n",
    "\n",
    "        json_data = item._json\n",
    "\n",
    "        found_follower = {}\n",
    "        found_follower[\"id\"] = json_data[\"id\"]\n",
    "        found_follower[\"name\"] = json_data[\"name\"]\n",
    "        found_follower[\"screen_name\"] = json_data[\"screen_name\"]\n",
    "        found_follower[\"location\"] = json_data[\"location\"]\n",
    "        if found_follower not in followers_of_account:\n",
    "            followers_of_account.append(found_follower)\n",
    "        print(f\"Processing Follower {len(followers_of_account)} of account: {account}\")\n",
    "\n",
    "    serialize_json(data_folder, path, followers_of_account)\n",
    "\n",
    "def getFollowing(account, path):\n",
    "    followings_of_account = []\n",
    "\n",
    "    for item in tweepy.Cursor(\n",
    "            api.friends,\n",
    "            screen_name=account,\n",
    "            skip_status=True,\n",
    "            include_user_entities=False\n",
    "    ).items():\n",
    "\n",
    "        json_data = item._json\n",
    "\n",
    "        found_following = {}\n",
    "        found_following[\"id\"] = json_data[\"id\"]\n",
    "        found_following[\"name\"] = json_data[\"name\"]\n",
    "        found_following[\"screen_name\"] = json_data[\"screen_name\"]\n",
    "        found_following[\"location\"] = json_data[\"location\"]\n",
    "        if found_following not in followings_of_account:\n",
    "            followings_of_account.append(found_following)\n",
    "        print(f\"Processing Following {len(followings_of_account)} of account: {account}\")\n",
    "\n",
    "    serialize_json(data_folder, path, followings_of_account)"
   ]
  },
  {
   "cell_type": "code",
   "execution_count": null,
   "outputs": [],
   "source": [
    "getFollowers(\"mizzaro\", \"mizzaroFollowers.json\")"
   ],
   "metadata": {
    "collapsed": false,
    "pycharm": {
     "name": "#%%\n"
    }
   }
  },
  {
   "cell_type": "code",
   "execution_count": null,
   "outputs": [],
   "source": [
    "getFollowers(\"damiano10\", \"damiano10Followers.json\")"
   ],
   "metadata": {
    "collapsed": false,
    "pycharm": {
     "name": "#%%\n"
    }
   }
  },
  {
   "cell_type": "code",
   "execution_count": null,
   "outputs": [],
   "source": [
    "getFollowers(\"Miccighel_\", \"Miccighel_Followers.json\")"
   ],
   "metadata": {
    "collapsed": false,
    "pycharm": {
     "name": "#%%\n",
     "is_executing": true
    }
   }
  },
  {
   "cell_type": "code",
   "execution_count": null,
   "outputs": [],
   "source": [
    "getFollowers(\"eglu81\", \"eglu81Followers.json\")"
   ],
   "metadata": {
    "collapsed": false,
    "pycharm": {
     "name": "#%%\n"
    }
   }
  },
  {
   "cell_type": "code",
   "execution_count": null,
   "outputs": [],
   "source": [
    "getFollowers(\"KevinRoitero\", \"KevinRoiteroFollowers.json\")"
   ],
   "metadata": {
    "collapsed": false,
    "pycharm": {
     "name": "#%%\n"
    }
   }
  },
  {
   "cell_type": "code",
   "execution_count": null,
   "outputs": [],
   "source": [
    "getFollowing(\"mizzaro\", \"mizzaroFollowers.json\")"
   ],
   "metadata": {
    "collapsed": false,
    "pycharm": {
     "name": "#%%\n"
    }
   }
  },
  {
   "cell_type": "code",
   "execution_count": null,
   "outputs": [],
   "source": [
    "getFollowing(\"damiano10\", \"damiano10Followers.json\")"
   ],
   "metadata": {
    "collapsed": false,
    "pycharm": {
     "name": "#%%\n"
    }
   }
  },
  {
   "cell_type": "code",
   "execution_count": null,
   "outputs": [],
   "source": [
    "getFollowing(\"Miccighel_\", \"Miccighel_Followers.json\")"
   ],
   "metadata": {
    "collapsed": false,
    "pycharm": {
     "name": "#%%\n"
    }
   }
  },
  {
   "cell_type": "code",
   "execution_count": null,
   "outputs": [],
   "source": [
    "getFollowing(\"eglu81\", \"eglu81Followers.json\")"
   ],
   "metadata": {
    "collapsed": false,
    "pycharm": {
     "name": "#%%\n"
    }
   }
  },
  {
   "cell_type": "code",
   "execution_count": null,
   "outputs": [],
   "source": [
    "getFollowing(\"KevinRoitero\", \"KevinRoiteroFollowings.json\")"
   ],
   "metadata": {
    "collapsed": false,
    "pycharm": {
     "name": "#%%\n"
    }
   }
  }
 ],
 "metadata": {
  "kernelspec": {
   "display_name": "Python 3",
   "language": "python",
   "name": "python3"
  },
  "language_info": {
   "codemirror_mode": {
    "name": "ipython",
    "version": 2
   },
   "file_extension": ".py",
   "mimetype": "text/x-python",
   "name": "python",
   "nbconvert_exporter": "python",
   "pygments_lexer": "ipython2",
   "version": "2.7.6"
  }
 },
 "nbformat": 4,
 "nbformat_minor": 0
}