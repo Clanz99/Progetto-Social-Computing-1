{
 "cells": [
  {
   "cell_type": "markdown",
   "metadata": {
    "pycharm": {
     "name": "#%% md\n"
    }
   },
   "source": [
    "# PROGETTO 1 SOCIAL COMPUTING\n",
    "\n",
    "## 1. DOWNLOAD FOLLOWER E FOLLOWING\n",
    "Scaricate utenti followers (api.followers) e utenti following (api.friends) di\n",
    "questi cinque account (i dati numerici potrebbero subire minime variazioni):\n",
    "- @mizzaro - 156 Follower - 331 Following\n",
    "- @damiano10 - 785 Follower - 836 Following\n",
    "- @Miccighel_ - 331 Follower - 211 Following\n",
    "- @eglu81 - 540 Follower - 621 Following\n",
    "- @KevinRoitero - 103 Follower - 256 Following"
   ]
  },
  {
   "cell_type": "code",
   "execution_count": null,
   "metadata": {},
   "outputs": [],
   "source": [
    "from config import *\n",
    "import os\n",
    "import json\n",
    "import pprint\n",
    "import tweepy\n",
    "import pandas as pd\n",
    "import numpy as np"
   ]
  },
  {
   "cell_type": "code",
   "execution_count": null,
   "metadata": {},
   "outputs": [],
   "source": [
    "pp = pprint.PrettyPrinter()\n",
    "data_folder = \"data\"\n",
    "auth = tweepy.OAuthHandler(consumer_key, consumer_secret)\n",
    "auth.set_access_token(access_token, access_secret)\n",
    "api = tweepy.API(auth, wait_on_rate_limit=True, wait_on_rate_limit_notify=True)\n",
    "if(api.verify_credentials):\n",
    "    print('Authentication completed succesfully!')"
   ]
  },
  {
   "cell_type": "code",
   "execution_count": null,
   "metadata": {},
   "outputs": [],
   "source": [
    "pp = pprint.PrettyPrinter()\n",
    "data_folder = \"data\"\n",
    "\n",
    "def serialize_json(folder, filename, data):\n",
    "    if not os.path.exists(folder):\n",
    "        os.makedirs(folder, exist_ok=True)\n",
    "    with open(f\"{folder}/{filename}\", \"w\", encoding=\"utf-8\") as f:\n",
    "        json.dump(data, f, ensure_ascii=False, indent=4)\n",
    "    print(f\"Data serialized to path: {folder}/{filename}\")\n",
    "\n",
    "def read_json(path):\n",
    "    if os.path.exists(path):\n",
    "        with open(path, \"r\", encoding=\"utf-8\") as file:\n",
    "            data = json.load(file)\n",
    "        print(f\"Data read from path: {path}\")\n",
    "        return data\n",
    "    else:\n",
    "        print(f\"No data found at path: {path}\")\n",
    "        return {}\n",
    "    \n",
    "def getIdFromScreenName(account):\n",
    "    print(f\"Getting ID from Screen Name:{account}\")\n",
    "    json_data = api.get_user(account)._json\n",
    "    return json_data['id_str']\n",
    "\n",
    "\n",
    "def getFollowersQuantity(account):\n",
    "    print(f\"Getting Followers Quantity of: {account}\")\n",
    "    raw_data = api.get_user(account)\n",
    "    json_data = raw_data._json\n",
    "    return json_data['followers_count']\n",
    "\n",
    "def getFriendsQuantity(account):\n",
    "    print(f\"Getting Friends Quantity of: {account}\")\n",
    "    raw_data = api.get_user(account)\n",
    "    json_data = raw_data._json\n",
    "    return json_data['friends_count']\n",
    "\n",
    "def getFollowers(account, ids, quantity, path):\n",
    "    for item in tweepy.Cursor(\n",
    "            api.followers,\n",
    "            id=account,\n",
    "            skip_status=True,\n",
    "            include_user_entities=False\n",
    "    ).items(quantity):\n",
    "\n",
    "        json_data = item._json\n",
    "        found_follower = json_data[\"id_str\"]\n",
    "        \n",
    "        if found_follower not in ids:\n",
    "            ids.append(found_follower)\n",
    "        print(f\"Processing Follower of account: {account}\")\n",
    "        \n",
    "    serialize_json(data_folder, path, ids)\n",
    "    print(f\"Processing Follower Finished\")\n",
    "    \n",
    "\n",
    "def getFriends(account, ids, quantity, path):\n",
    "    \n",
    "    for item in tweepy.Cursor(\n",
    "            api.friends,\n",
    "            id=account,\n",
    "            skip_status=True,\n",
    "            include_user_entities=False\n",
    "    ).items(quantity):\n",
    "\n",
    "        json_data = item._json\n",
    "        found_follower = json_data[\"id_str\"]\n",
    "        \n",
    "        if found_follower not in ids:\n",
    "            ids.append(found_follower)\n",
    "        print(f\"Processing Follower of account: {account}\")\n",
    "        \n",
    "    serialize_json(data_folder, path, ids)\n",
    "    print(f\"Processing Follower Finished\")"
   ]
  },
  {
   "cell_type": "code",
   "execution_count": null,
   "metadata": {},
   "outputs": [],
   "source": [
    "account_to_analyze = [\"mizzaro\", \"damiano10\", \"Miccighel_\", \"eglu81\", \"KevinRoitero\"]\n",
    "#account_to_analyze = [\"mizzaro\"]\n",
    "\n",
    "    \n",
    "pp.pprint(account_to_analyze)"
   ]
  },
  {
   "cell_type": "markdown",
   "metadata": {},
   "source": [
    "### SALVATAGGIO DI TUTTI GLI ID"
   ]
  },
  {
   "cell_type": "code",
   "execution_count": null,
   "metadata": {},
   "outputs": [],
   "source": [
    "for x in account_to_analyze:\n",
    "    account_ids = []\n",
    "    followers_quantity = getFollowersQuantity(getIdFromScreenName(x));\n",
    "    friends_quantity = getFriendsQuantity(getIdFromScreenName(x));\n",
    "    getFollowers(getIdFromScreenName(x), account_ids, followers_quantity, x+\"FollowerIDs.json\");\n",
    "    getFriends(getIdFromScreenName(x), account_ids, friends_quantity, x+\"FriendIDs.json\");"
   ]
  },
  {
   "cell_type": "markdown",
   "metadata": {
    "pycharm": {
     "name": "#%% md\n"
    }
   },
   "source": [
    "## 2. CINQUE FOLLOWERS e 5 FRIENDS RANDOM\n",
    "Scegliete 5 utenti followers a caso tra quelli di ciascuno dei cinque account e\n",
    "scaricate ulteriori 10 utenti followers (followers dei followers)"
   ]
  },
  {
   "cell_type": "code",
   "execution_count": null,
   "metadata": {
    "collapsed": false,
    "jupyter": {
     "outputs_hidden": false
    },
    "pycharm": {
     "name": "#%%\n"
    }
   },
   "outputs": [],
   "source": [
    "#scrivere nella relazione anche di randomize sample\n",
    "\n",
    "import random\n",
    "\n",
    "def randomizeFollower(read_path, ids):\n",
    "    print(f\"Getting Randomized Followers from {read_path}\")\n",
    "    data_account = read_json(read_path)\n",
    "    for x in range(5):\n",
    "        randomizeRec(data_account, ids)\n",
    "    pp.pprint(ids)\n",
    "    \n",
    "def randomizeFollowerRec(data_ids, ids):\n",
    "    rand = random.choice(data_ids)\n",
    "    if(rand in ids):\n",
    "        randomizeRec(data_ids, ids)\n",
    "    elif(getFollowersQuantity(rand) <10):\n",
    "        randomizeRec(data_ids, ids)\n",
    "    else:\n",
    "        ids.append(rand)"
   ]
  },
  {
   "cell_type": "code",
   "execution_count": null,
   "metadata": {
    "collapsed": false,
    "jupyter": {
     "outputs_hidden": false
    },
    "pycharm": {
     "name": "#%%\n"
    }
   },
   "outputs": [],
   "source": [
    "follower_ids = []\n",
    "\n",
    "for x in account_to_analyze:\n",
    "    randomizeFollower(\"data/\"+x+\"FollowerIDs.json\", follower_ids)"
   ]
  },
  {
   "cell_type": "code",
   "execution_count": null,
   "metadata": {},
   "outputs": [],
   "source": [
    "for x in follower_ids:\n",
    "    account_ids = []\n",
    "    getFollowers(x, account_ids, 10, x+\"FollowerIDs.json\");"
   ]
  },
  {
   "cell_type": "markdown",
   "metadata": {},
   "source": [
    "## 3. CINQUE FRIENDS RANDOM\n",
    "\n",
    "Scegliete 5 utenti following a caso tra quelli di ciascuno dei cinque account e\n",
    "scaricate ulteriori 10 utenti following (following dei following)\n"
   ]
  },
  {
   "cell_type": "markdown",
   "metadata": {},
   "source": [
    "## 4. DETTAGLI PROFILI\n",
    "Scaricare i dettagli del profilo di tutti gli utenti recuperati\n"
   ]
  },
  {
   "cell_type": "markdown",
   "metadata": {},
   "source": [
    "## 5. COSTRUIRE RETE SOCIALE\n",
    "Costruite la rete sociale (grafo):\n",
    "- Inserite l’id di ciascun utente come identificatore del nodo\n",
    "- Ogni arco rappresenta una relazione follows tra due utenti\n",
    "- Inserite i dettagli del profilo di ciascun utente come attributi del nodo\n",
    "- Inserite i membri del vostro gruppo come attributi del grafo\n",
    "- Per ogni nodo, aggiungete un attributo con il numero di follower individuati\n",
    "\n",
    "## 6.\n",
    "Producete una visualizzazione interattiva del grafo usando pyvis\n",
    "\n",
    "## 7.\n",
    "Verificate se il grafo:\n",
    "- è connesso (is_connected)\n",
    "- è bipartito (is_bipartite)\n",
    "\n",
    "## 8.\n",
    "Misurate le seguenti distanze sul grafo:\n",
    "- Centro (center)\n",
    "- Diametro (diameter)\n",
    "- Raggio (radius)\n",
    "\n",
    "## 9.\n",
    "Calcolate le seguenti misure di centralità sul grafo:\n",
    "- Betweenness centrality (betweenness_centrality)\n",
    "- Closeness centrality (closeness_centrality)\n",
    "- Degree centrality (degree_centrality)\n",
    "- In-degree centrality (in_degree_centrality)\n",
    "- Out-degree centrality (out_degree_centrality)\n",
    "- Page Rank (pagerank)\n",
    "- HITS (hits)\n",
    "\n",
    "## 10.\n",
    "Generate il sottografo indotto dal nodo damiano10 (ego_graph) e calcolate:\n",
    "- Cricca massima (max_clique)\n",
    "- Dimensione della cricca massima (large_clique_size)\n",
    "\n",
    "## 11.\n",
    "Calcolate la copertura minima degli archi (min_edge_cover) del grafo\n",
    "\n",
    "## 12.\n",
    "Calcolate i seguenti coefficienti per stimare la “small-world-ness” del grafo:\n",
    "- Coefficiente omega (omega)\n",
    "- Coefficiente sigma (sigma)\n",
    "\n",
    "## 13.\n",
    "Calcolare la correlazione di Pearson Rho e di Kendall Tau fra le misure di centralità;\n",
    "riportare il risultato in due tabelle"
   ]
  },
  {
   "cell_type": "code",
   "execution_count": null,
   "metadata": {},
   "outputs": [],
   "source": []
  }
 ],
 "metadata": {
  "kernelspec": {
   "display_name": "Python 3",
   "language": "python",
   "name": "python3"
  },
  "language_info": {
   "codemirror_mode": {
    "name": "ipython",
    "version": 3
   },
   "file_extension": ".py",
   "mimetype": "text/x-python",
   "name": "python",
   "nbconvert_exporter": "python",
   "pygments_lexer": "ipython3",
   "version": "3.8.3"
  }
 },
 "nbformat": 4,
 "nbformat_minor": 4
}
