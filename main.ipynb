{
 "cells": [
  {
   "cell_type": "markdown",
   "metadata": {
    "pycharm": {
     "name": "#%% md\n"
    }
   },
   "source": [
    "# PROGETTO 1 SOCIAL COMPUTING\n",
    "\n",
    "## 1. DOWNLOAD FOLLOWER E FOLLOWING\n",
    "Scaricate utenti followers (api.followers) e utenti following (api.friends) di\n",
    "questi cinque account (i dati numerici potrebbero subire minime variazioni):\n",
    "- @mizzaro - 156 Follower - 331 Following\n",
    "- @damiano10 - 785 Follower - 836 Following\n",
    "- @Miccighel_ - 331 Follower - 211 Following\n",
    "- @eglu81 - 540 Follower - 621 Following\n",
    "- @KevinRoitero - 103 Follower - 256 Following"
   ]
  },
  {
   "cell_type": "code",
   "execution_count": 50,
   "metadata": {},
   "outputs": [],
   "source": [
    "from config import *\n",
    "import os\n",
    "import json\n",
    "import pprint\n",
    "import tweepy\n",
    "import pandas as pd\n",
    "import numpy as np"
   ]
  },
  {
   "cell_type": "code",
   "execution_count": 51,
   "metadata": {},
   "outputs": [
    {
     "name": "stdout",
     "output_type": "stream",
     "text": [
      "Authentication completed succesfully!\n"
     ]
    }
   ],
   "source": [
    "auth = tweepy.OAuthHandler(consumer_key, consumer_secret)\n",
    "auth.set_access_token(access_token, access_secret)\n",
    "api = tweepy.API(auth, wait_on_rate_limit=True, wait_on_rate_limit_notify=True)\n",
    "if(api.verify_credentials):\n",
    "    print('Authentication completed succesfully!')"
   ]
  },
  {
   "cell_type": "code",
   "execution_count": 52,
   "metadata": {},
   "outputs": [
    {
     "name": "stdout",
     "output_type": "stream",
     "text": [
      "Setup Completed\n"
     ]
    }
   ],
   "source": [
    "pp = pprint.PrettyPrinter()\n",
    "data_folder = \"data\"\n",
    "\n",
    "\n",
    "def serialize_json(folder, filename, data):\n",
    "    if not os.path.exists(folder):\n",
    "        os.makedirs(folder, exist_ok=True)\n",
    "    with open(f\"{folder}/{filename}\", \"w\", encoding=\"utf-8\") as f:\n",
    "        json.dump(data, f, ensure_ascii=False, indent=4)\n",
    "    print(f\"Data serialized to path: {folder}/{filename}\")\n",
    "\n",
    "    \n",
    "def read_json(path):\n",
    "    if os.path.exists(path):\n",
    "        with open(path, \"r\", encoding=\"utf-8\") as file:\n",
    "            data = json.load(file)\n",
    "        print(f\"Data read from path: {path}\")\n",
    "        return data\n",
    "    else:\n",
    "        print(f\"No data found at path: {path}\")\n",
    "        return {}\n",
    "\n",
    "    \n",
    "def getIdFromScreenName(account): #not used\n",
    "    print(f\"Getting ID from Screen Name:{account}\")\n",
    "    json_data = api.get_user(account)._json\n",
    "    return json_data['id_str']\n",
    "\n",
    "\n",
    "def getData(account):\n",
    "    print(f\"Getting ID-FollowersQuantity-FriendsQuantity of: {account}\")\n",
    "    json_data = api.get_user(account)._json\n",
    "    data = []\n",
    "    data.append(json_data['id_str'])\n",
    "    data.append(json_data['followers_count'])\n",
    "    data.append(json_data['friends_count'])\n",
    "    return data\n",
    "\n",
    "\n",
    "def getFollowers(account, ids, quantity, path, append=False):\n",
    "    for item in tweepy.Cursor(\n",
    "            api.followers,\n",
    "            id=account,\n",
    "            skip_status=True,\n",
    "            include_user_entities=False\n",
    "    ).items(quantity):\n",
    "\n",
    "        json_data = item._json\n",
    "        found_follower = json_data[\"id_str\"]\n",
    "        \n",
    "        if found_follower not in ids:\n",
    "            ids.append(found_follower)\n",
    "        print(f\"Processing Follower #{len(ids)} of account: {account}\")\n",
    "    if(append==False): \n",
    "        serialize_json(data_folder, path, ids)\n",
    "    #else: DA FINIRE\n",
    "        #funzione per fare l'append dei json\n",
    "     #   json1 = read_json(\"data/\"+path)\n",
    "      #  json2 = ids\n",
    "       # json = json1 + json2\n",
    "        #json = list(set(json)) #eventuale rimozione dei doppioni\n",
    "        #serialize_json(data_folder, path, ids)\n",
    "    print(f\"Processing Follower Finished\")\n",
    "    \n",
    "\n",
    "def getFriends(account, ids, quantity, path):\n",
    "    \n",
    "    for item in tweepy.Cursor(\n",
    "            api.friends,\n",
    "            id=account,\n",
    "            skip_status=True,\n",
    "            include_user_entities=False\n",
    "    ).items(quantity):\n",
    "\n",
    "        json_data = item._json\n",
    "        found_follower = json_data[\"id_str\"]\n",
    "        \n",
    "        if found_follower not in ids:\n",
    "            ids.append(found_follower)\n",
    "        print(f\"Processing Friend #{len(ids)} of account: {account}\")\n",
    "        \n",
    "    serialize_json(data_folder, path, ids)\n",
    "    print(f\"Processing Follower Finished\")\n",
    "\n",
    "    \n",
    "\n",
    "print(\"Setup Completed\")"
   ]
  },
  {
   "cell_type": "code",
   "execution_count": 53,
   "metadata": {},
   "outputs": [
    {
     "name": "stdout",
     "output_type": "stream",
     "text": [
      "Account to Analyze: ['mizzaro', 'damiano10', 'Miccighel_', 'eglu81', 'KevinRoitero']\n"
     ]
    }
   ],
   "source": [
    "account_to_analyze = [\"mizzaro\", \"damiano10\", \"Miccighel_\", \"eglu81\", \"KevinRoitero\"]\n",
    "print(f\"Account to Analyze: {account_to_analyze}\")"
   ]
  },
  {
   "cell_type": "markdown",
   "metadata": {},
   "source": [
    "### SALVATAGGIO DI TUTTI GLI ID"
   ]
  },
  {
   "cell_type": "code",
   "execution_count": 60,
   "metadata": {},
   "outputs": [
    {
     "ename": "SyntaxError",
     "evalue": "EOL while scanning string literal (<ipython-input-60-91d87b48a8b4>, line 7)",
     "output_type": "error",
     "traceback": [
      "\u001b[1;36m  File \u001b[1;32m\"<ipython-input-60-91d87b48a8b4>\"\u001b[1;36m, line \u001b[1;32m7\u001b[0m\n\u001b[1;33m    getFollowers(account_id, account_ids, followers_quantity, account_to_analyze[0]+FollowerIDs.json\")\u001b[0m\n\u001b[1;37m                                                                                                      ^\u001b[0m\n\u001b[1;31mSyntaxError\u001b[0m\u001b[1;31m:\u001b[0m EOL while scanning string literal\n"
     ]
    }
   ],
   "source": [
    "#mizzaro\n",
    "account_ids = []\n",
    "data = getData(account_to_analyze[0])\n",
    "account_id = data[0]\n",
    "followers_quantity = data[1]\n",
    "friends_quantity = data[2]\n",
    "getFollowers(account_id, account_ids, followers_quantity, account_to_analyze[0]+\"FollowerIDs.json\")\n",
    "getFriends(account_id, account_ids, friends_quantity, account_to_analyze[0]+\"FriendIDs.json\")"
   ]
  },
  {
   "cell_type": "code",
   "execution_count": null,
   "metadata": {},
   "outputs": [],
   "source": [
    "#damiano10\n",
    "account_ids = []\n",
    "data = getData(account_to_analyze[1])\n",
    "account_id = data[0]\n",
    "followers_quantity = data[1]\n",
    "friends_quantity = data[2]\n",
    "getFollowers(account_id, account_ids, followers_quantity, account_to_analyze[1]+\"FollowerIDs.json\")\n",
    "getFriends(account_id, account_ids, friends_quantity, account_to_analyze[1]+\"FriendIDs.json\")"
   ]
  },
  {
   "cell_type": "code",
   "execution_count": null,
   "metadata": {},
   "outputs": [],
   "source": [
    "#Miccighel_\n",
    "account_ids = []\n",
    "data = getData(account_to_analyze[2])\n",
    "account_id = data[0]\n",
    "followers_quantity = data[1]\n",
    "friends_quantity = data[2]\n",
    "getFollowers(account_id, account_ids, followers_quantity, account_to_analyze[2]+\"FollowerIDs.json\")\n",
    "getFriends(account_id, account_ids, friends_quantity, account_to_analyze[2]+\"FriendIDs.json\")"
   ]
  },
  {
   "cell_type": "code",
   "execution_count": null,
   "metadata": {},
   "outputs": [],
   "source": [
    "#eglu81\n",
    "account_ids = []\n",
    "data = getData(account_to_analyze[3])\n",
    "account_id = data[0]\n",
    "followers_quantity = data[1]\n",
    "friends_quantity = data[2]\n",
    "getFollowers(account_id, account_ids, followers_quantity, account_to_analyze[3]+\"FollowerIDs.json\")\n",
    "getFriends(account_id, account_ids, friends_quantity, account_to_analyze[3]+\"FriendIDs.json\")"
   ]
  },
  {
   "cell_type": "code",
   "execution_count": null,
   "metadata": {},
   "outputs": [],
   "source": [
    "#KevinRoitero\n",
    "account_ids = []\n",
    "data = getData(account_to_analyze[4])\n",
    "account_id = data[0]\n",
    "followers_quantity = data[1]\n",
    "friends_quantity = data[2]\n",
    "getFollowers(account_id, account_ids, followers_quantity, account_to_analyze[4]+\"FollowerIDs.json\")\n",
    "getFriends(account_id, account_ids, friends_quantity, account_to_analyze[4]+\"FriendIDs.json\")"
   ]
  },
  {
   "cell_type": "code",
   "execution_count": null,
   "metadata": {},
   "outputs": [],
   "source": [
    "#Versione con un unico ciclo da inserire nella relazione \n",
    "for x in account_to_analyze:\n",
    "    account_ids = []\n",
    "    data = getData(x)\n",
    "    account_id = data[0]\n",
    "    followers_quantity = data[1]\n",
    "    friends_quantity = data[2]\n",
    "    getFollowers(account_id, account_ids, followers_quantity, x+\"FollowerIDs.json\")\n",
    "    getFriends(account_id, account_ids, friends_quantity, x+\"FriendIDs.json\")"
   ]
  },
  {
   "cell_type": "markdown",
   "metadata": {
    "pycharm": {
     "name": "#%% md\n"
    }
   },
   "source": [
    "## 2. CINQUE FOLLOWERS e CINQUE FRIENDS RANDOM\n",
    "IMPORTANTE!!! Nella relazione scrivere anche della possibilità di usare random.sample()\n",
    "\n",
    "Scegliete 5 utenti followers a caso tra quelli di ciascuno dei cinque account e scaricate ulteriori 10 utenti followers (followers dei followers)"
   ]
  },
  {
   "cell_type": "code",
   "execution_count": 54,
   "metadata": {
    "collapsed": false,
    "jupyter": {
     "outputs_hidden": false
    },
    "pycharm": {
     "name": "#%%\n"
    }
   },
   "outputs": [],
   "source": [
    "import random\n",
    "\n",
    "def randomizeFollower(read_path, ids):\n",
    "    print(f\"Getting Randomized Followers from {read_path}\")\n",
    "    data_account = read_json(read_path)\n",
    "    for x in range(5):\n",
    "        randomizeFollowerRec(data_account, ids)\n",
    "    #pp.pprint(ids)\n",
    "    \n",
    "def randomizeFollowerRec(data_ids, ids):\n",
    "    rand = random.choice(data_ids)\n",
    "    if(rand in ids):\n",
    "        randomizeRec(data_ids, ids)\n",
    "    elif(getData(rand)[1] <10):\n",
    "        randomizeRec(data_ids, ids)\n",
    "    else:\n",
    "        ids.append(rand)"
   ]
  },
  {
   "cell_type": "code",
   "execution_count": 55,
   "metadata": {
    "collapsed": false,
    "jupyter": {
     "outputs_hidden": false
    },
    "pycharm": {
     "name": "#%%\n"
    }
   },
   "outputs": [
    {
     "name": "stdout",
     "output_type": "stream",
     "text": [
      "Getting Randomized Followers from data/mizzaroFollowerIDs.json\n",
      "Data read from path: data/mizzaroFollowerIDs.json\n",
      "Getting ID-FollowersQuantity-FriendsQuantity of: 3128829965\n",
      "Getting ID-FollowersQuantity-FriendsQuantity of: 46922123\n",
      "Getting ID-FollowersQuantity-FriendsQuantity of: 15378449\n",
      "Getting ID-FollowersQuantity-FriendsQuantity of: 108441778\n",
      "Getting ID-FollowersQuantity-FriendsQuantity of: 4149032843\n",
      "5Followers of Followers\n",
      "Followers of Followers: ['3128829965', '46922123', '15378449', '108441778', '4149032843']\n"
     ]
    }
   ],
   "source": [
    "follower_ids = []\n",
    "#randomizzazione di 25 follower totali\n",
    "#for x in account_to_analyze:\n",
    " #   randomizeFollower(\"data/\"+x+\"FollowerIDs.json\", follower_ids)\n",
    "randomizeFollower(\"data/mizzaroFollowerIDs.json\", follower_ids)\n",
    "print(f\"{len(follower_ids) }Followers of Followers\")\n",
    "print(f\"Followers of Followers: {follower_ids}\")"
   ]
  },
  {
   "cell_type": "code",
   "execution_count": 58,
   "metadata": {},
   "outputs": [
    {
     "name": "stdout",
     "output_type": "stream",
     "text": [
      "Data serialized to path: data/FollowerOfFollowerIDs.json\n",
      "Processing Follower #1 of account: 3128829965\n",
      "Processing Follower #2 of account: 3128829965\n",
      "Processing Follower #3 of account: 3128829965\n",
      "Processing Follower #4 of account: 3128829965\n",
      "Processing Follower #5 of account: 3128829965\n",
      "Processing Follower #6 of account: 3128829965\n",
      "Processing Follower #7 of account: 3128829965\n",
      "Processing Follower #8 of account: 3128829965\n",
      "Processing Follower #9 of account: 3128829965\n",
      "Data read from path: data/FollowerOfFollowerIDs.json\n",
      "Data serialized to path: data/FollowerOfFollowerIDs.json\n",
      "Processing Follower Finished\n"
     ]
    },
    {
     "ename": "TweepError",
     "evalue": "Not authorized.",
     "output_type": "error",
     "traceback": [
      "\u001b[1;31m---------------------------------------------------------------------------\u001b[0m",
      "\u001b[1;31mTweepError\u001b[0m                                Traceback (most recent call last)",
      "\u001b[1;32m<ipython-input-58-9db34c88d69a>\u001b[0m in \u001b[0;36m<module>\u001b[1;34m\u001b[0m\n\u001b[0;32m      3\u001b[0m \u001b[1;32mfor\u001b[0m \u001b[0mx\u001b[0m \u001b[1;32min\u001b[0m \u001b[0mfollower_ids\u001b[0m\u001b[1;33m:\u001b[0m\u001b[1;33m\u001b[0m\u001b[1;33m\u001b[0m\u001b[0m\n\u001b[0;32m      4\u001b[0m     \u001b[0maccount_ids\u001b[0m \u001b[1;33m=\u001b[0m \u001b[1;33m[\u001b[0m\u001b[1;33m]\u001b[0m\u001b[1;33m\u001b[0m\u001b[1;33m\u001b[0m\u001b[0m\n\u001b[1;32m----> 5\u001b[1;33m     \u001b[0mgetFollowers\u001b[0m\u001b[1;33m(\u001b[0m\u001b[0mx\u001b[0m\u001b[1;33m,\u001b[0m \u001b[0maccount_ids\u001b[0m\u001b[1;33m,\u001b[0m \u001b[1;36m9\u001b[0m\u001b[1;33m,\u001b[0m \u001b[1;34m\"FollowerOfFollowerIDs.json\"\u001b[0m\u001b[1;33m,\u001b[0m \u001b[1;32mTrue\u001b[0m\u001b[1;33m)\u001b[0m\u001b[1;33m;\u001b[0m\u001b[1;33m\u001b[0m\u001b[1;33m\u001b[0m\u001b[0m\n\u001b[0m",
      "\u001b[1;32m<ipython-input-52-75fa17b37414>\u001b[0m in \u001b[0;36mgetFollowers\u001b[1;34m(account, ids, quantity, path, append)\u001b[0m\n\u001b[0;32m     39\u001b[0m \u001b[1;33m\u001b[0m\u001b[0m\n\u001b[0;32m     40\u001b[0m \u001b[1;32mdef\u001b[0m \u001b[0mgetFollowers\u001b[0m\u001b[1;33m(\u001b[0m\u001b[0maccount\u001b[0m\u001b[1;33m,\u001b[0m \u001b[0mids\u001b[0m\u001b[1;33m,\u001b[0m \u001b[0mquantity\u001b[0m\u001b[1;33m,\u001b[0m \u001b[0mpath\u001b[0m\u001b[1;33m,\u001b[0m \u001b[0mappend\u001b[0m\u001b[1;33m=\u001b[0m\u001b[1;32mFalse\u001b[0m\u001b[1;33m)\u001b[0m\u001b[1;33m:\u001b[0m\u001b[1;33m\u001b[0m\u001b[1;33m\u001b[0m\u001b[0m\n\u001b[1;32m---> 41\u001b[1;33m     for item in tweepy.Cursor(\n\u001b[0m\u001b[0;32m     42\u001b[0m             \u001b[0mapi\u001b[0m\u001b[1;33m.\u001b[0m\u001b[0mfollowers\u001b[0m\u001b[1;33m,\u001b[0m\u001b[1;33m\u001b[0m\u001b[1;33m\u001b[0m\u001b[0m\n\u001b[0;32m     43\u001b[0m             \u001b[0mid\u001b[0m\u001b[1;33m=\u001b[0m\u001b[0maccount\u001b[0m\u001b[1;33m,\u001b[0m\u001b[1;33m\u001b[0m\u001b[1;33m\u001b[0m\u001b[0m\n",
      "\u001b[1;32m~\\anaconda3\\lib\\site-packages\\tweepy\\cursor.py\u001b[0m in \u001b[0;36m__next__\u001b[1;34m(self)\u001b[0m\n\u001b[0;32m     47\u001b[0m \u001b[1;33m\u001b[0m\u001b[0m\n\u001b[0;32m     48\u001b[0m     \u001b[1;32mdef\u001b[0m \u001b[0m__next__\u001b[0m\u001b[1;33m(\u001b[0m\u001b[0mself\u001b[0m\u001b[1;33m)\u001b[0m\u001b[1;33m:\u001b[0m\u001b[1;33m\u001b[0m\u001b[1;33m\u001b[0m\u001b[0m\n\u001b[1;32m---> 49\u001b[1;33m         \u001b[1;32mreturn\u001b[0m \u001b[0mself\u001b[0m\u001b[1;33m.\u001b[0m\u001b[0mnext\u001b[0m\u001b[1;33m(\u001b[0m\u001b[1;33m)\u001b[0m\u001b[1;33m\u001b[0m\u001b[1;33m\u001b[0m\u001b[0m\n\u001b[0m\u001b[0;32m     50\u001b[0m \u001b[1;33m\u001b[0m\u001b[0m\n\u001b[0;32m     51\u001b[0m     \u001b[1;32mdef\u001b[0m \u001b[0mnext\u001b[0m\u001b[1;33m(\u001b[0m\u001b[0mself\u001b[0m\u001b[1;33m)\u001b[0m\u001b[1;33m:\u001b[0m\u001b[1;33m\u001b[0m\u001b[1;33m\u001b[0m\u001b[0m\n",
      "\u001b[1;32m~\\anaconda3\\lib\\site-packages\\tweepy\\cursor.py\u001b[0m in \u001b[0;36mnext\u001b[1;34m(self)\u001b[0m\n\u001b[0;32m    217\u001b[0m         \u001b[1;32mif\u001b[0m \u001b[0mself\u001b[0m\u001b[1;33m.\u001b[0m\u001b[0mcurrent_page\u001b[0m \u001b[1;32mis\u001b[0m \u001b[1;32mNone\u001b[0m \u001b[1;32mor\u001b[0m \u001b[0mself\u001b[0m\u001b[1;33m.\u001b[0m\u001b[0mpage_index\u001b[0m \u001b[1;33m==\u001b[0m \u001b[0mlen\u001b[0m\u001b[1;33m(\u001b[0m\u001b[0mself\u001b[0m\u001b[1;33m.\u001b[0m\u001b[0mcurrent_page\u001b[0m\u001b[1;33m)\u001b[0m \u001b[1;33m-\u001b[0m \u001b[1;36m1\u001b[0m\u001b[1;33m:\u001b[0m\u001b[1;33m\u001b[0m\u001b[1;33m\u001b[0m\u001b[0m\n\u001b[0;32m    218\u001b[0m             \u001b[1;31m# Reached end of current page, get the next page...\u001b[0m\u001b[1;33m\u001b[0m\u001b[1;33m\u001b[0m\u001b[1;33m\u001b[0m\u001b[0m\n\u001b[1;32m--> 219\u001b[1;33m             \u001b[0mself\u001b[0m\u001b[1;33m.\u001b[0m\u001b[0mcurrent_page\u001b[0m \u001b[1;33m=\u001b[0m \u001b[0mself\u001b[0m\u001b[1;33m.\u001b[0m\u001b[0mpage_iterator\u001b[0m\u001b[1;33m.\u001b[0m\u001b[0mnext\u001b[0m\u001b[1;33m(\u001b[0m\u001b[1;33m)\u001b[0m\u001b[1;33m\u001b[0m\u001b[1;33m\u001b[0m\u001b[0m\n\u001b[0m\u001b[0;32m    220\u001b[0m             \u001b[1;32mwhile\u001b[0m \u001b[0mlen\u001b[0m\u001b[1;33m(\u001b[0m\u001b[0mself\u001b[0m\u001b[1;33m.\u001b[0m\u001b[0mcurrent_page\u001b[0m\u001b[1;33m)\u001b[0m \u001b[1;33m==\u001b[0m \u001b[1;36m0\u001b[0m\u001b[1;33m:\u001b[0m\u001b[1;33m\u001b[0m\u001b[1;33m\u001b[0m\u001b[0m\n\u001b[0;32m    221\u001b[0m                 \u001b[0mself\u001b[0m\u001b[1;33m.\u001b[0m\u001b[0mcurrent_page\u001b[0m \u001b[1;33m=\u001b[0m \u001b[0mself\u001b[0m\u001b[1;33m.\u001b[0m\u001b[0mpage_iterator\u001b[0m\u001b[1;33m.\u001b[0m\u001b[0mnext\u001b[0m\u001b[1;33m(\u001b[0m\u001b[1;33m)\u001b[0m\u001b[1;33m\u001b[0m\u001b[1;33m\u001b[0m\u001b[0m\n",
      "\u001b[1;32m~\\anaconda3\\lib\\site-packages\\tweepy\\cursor.py\u001b[0m in \u001b[0;36mnext\u001b[1;34m(self)\u001b[0m\n\u001b[0;32m     71\u001b[0m         \u001b[1;32mif\u001b[0m \u001b[0mself\u001b[0m\u001b[1;33m.\u001b[0m\u001b[0mnext_cursor\u001b[0m \u001b[1;33m==\u001b[0m \u001b[1;36m0\u001b[0m \u001b[1;32mor\u001b[0m \u001b[1;33m(\u001b[0m\u001b[0mself\u001b[0m\u001b[1;33m.\u001b[0m\u001b[0mlimit\u001b[0m \u001b[1;32mand\u001b[0m \u001b[0mself\u001b[0m\u001b[1;33m.\u001b[0m\u001b[0mnum_tweets\u001b[0m \u001b[1;33m==\u001b[0m \u001b[0mself\u001b[0m\u001b[1;33m.\u001b[0m\u001b[0mlimit\u001b[0m\u001b[1;33m)\u001b[0m\u001b[1;33m:\u001b[0m\u001b[1;33m\u001b[0m\u001b[1;33m\u001b[0m\u001b[0m\n\u001b[0;32m     72\u001b[0m             \u001b[1;32mraise\u001b[0m \u001b[0mStopIteration\u001b[0m\u001b[1;33m\u001b[0m\u001b[1;33m\u001b[0m\u001b[0m\n\u001b[1;32m---> 73\u001b[1;33m         data, cursors = self.method(cursor=self.next_cursor,\n\u001b[0m\u001b[0;32m     74\u001b[0m                                     \u001b[1;33m*\u001b[0m\u001b[0mself\u001b[0m\u001b[1;33m.\u001b[0m\u001b[0margs\u001b[0m\u001b[1;33m,\u001b[0m\u001b[1;33m\u001b[0m\u001b[1;33m\u001b[0m\u001b[0m\n\u001b[0;32m     75\u001b[0m                                     **self.kwargs)\n",
      "\u001b[1;32m~\\anaconda3\\lib\\site-packages\\tweepy\\binder.py\u001b[0m in \u001b[0;36m_call\u001b[1;34m(*args, **kwargs)\u001b[0m\n\u001b[0;32m    250\u001b[0m                 \u001b[1;32mreturn\u001b[0m \u001b[0mmethod\u001b[0m\u001b[1;33m\u001b[0m\u001b[1;33m\u001b[0m\u001b[0m\n\u001b[0;32m    251\u001b[0m             \u001b[1;32melse\u001b[0m\u001b[1;33m:\u001b[0m\u001b[1;33m\u001b[0m\u001b[1;33m\u001b[0m\u001b[0m\n\u001b[1;32m--> 252\u001b[1;33m                 \u001b[1;32mreturn\u001b[0m \u001b[0mmethod\u001b[0m\u001b[1;33m.\u001b[0m\u001b[0mexecute\u001b[0m\u001b[1;33m(\u001b[0m\u001b[1;33m)\u001b[0m\u001b[1;33m\u001b[0m\u001b[1;33m\u001b[0m\u001b[0m\n\u001b[0m\u001b[0;32m    253\u001b[0m         \u001b[1;32mfinally\u001b[0m\u001b[1;33m:\u001b[0m\u001b[1;33m\u001b[0m\u001b[1;33m\u001b[0m\u001b[0m\n\u001b[0;32m    254\u001b[0m             \u001b[0mmethod\u001b[0m\u001b[1;33m.\u001b[0m\u001b[0msession\u001b[0m\u001b[1;33m.\u001b[0m\u001b[0mclose\u001b[0m\u001b[1;33m(\u001b[0m\u001b[1;33m)\u001b[0m\u001b[1;33m\u001b[0m\u001b[1;33m\u001b[0m\u001b[0m\n",
      "\u001b[1;32m~\\anaconda3\\lib\\site-packages\\tweepy\\binder.py\u001b[0m in \u001b[0;36mexecute\u001b[1;34m(self)\u001b[0m\n\u001b[0;32m    232\u001b[0m                     \u001b[1;32mraise\u001b[0m \u001b[0mRateLimitError\u001b[0m\u001b[1;33m(\u001b[0m\u001b[0merror_msg\u001b[0m\u001b[1;33m,\u001b[0m \u001b[0mresp\u001b[0m\u001b[1;33m)\u001b[0m\u001b[1;33m\u001b[0m\u001b[1;33m\u001b[0m\u001b[0m\n\u001b[0;32m    233\u001b[0m                 \u001b[1;32melse\u001b[0m\u001b[1;33m:\u001b[0m\u001b[1;33m\u001b[0m\u001b[1;33m\u001b[0m\u001b[0m\n\u001b[1;32m--> 234\u001b[1;33m                     \u001b[1;32mraise\u001b[0m \u001b[0mTweepError\u001b[0m\u001b[1;33m(\u001b[0m\u001b[0merror_msg\u001b[0m\u001b[1;33m,\u001b[0m \u001b[0mresp\u001b[0m\u001b[1;33m,\u001b[0m \u001b[0mapi_code\u001b[0m\u001b[1;33m=\u001b[0m\u001b[0mapi_error_code\u001b[0m\u001b[1;33m)\u001b[0m\u001b[1;33m\u001b[0m\u001b[1;33m\u001b[0m\u001b[0m\n\u001b[0m\u001b[0;32m    235\u001b[0m \u001b[1;33m\u001b[0m\u001b[0m\n\u001b[0;32m    236\u001b[0m             \u001b[1;31m# Parse the response payload\u001b[0m\u001b[1;33m\u001b[0m\u001b[1;33m\u001b[0m\u001b[1;33m\u001b[0m\u001b[0m\n",
      "\u001b[1;31mTweepError\u001b[0m: Not authorized."
     ]
    }
   ],
   "source": [
    "#DA FINIRE, NON ESEGUIRE\n",
    "\n",
    "data = []\n",
    "serialize_json(data_folder, \"FollowerOfFollowerIDs.json\", data)\n",
    "for x in follower_ids:\n",
    "    account_ids = []\n",
    "    getFollowers(x, account_ids, 10, \"FollowerOfFollowerIDs.json\", True);"
   ]
  },
  {
   "cell_type": "code",
   "execution_count": 20,
   "metadata": {},
   "outputs": [
    {
     "name": "stdout",
     "output_type": "stream",
     "text": [
      "'Done'\n"
     ]
    }
   ],
   "source": [
    "def dataFrameAppend(path, json_data):\n",
    "    dataframe = createDataFrame(json_data)\n",
    "    dataframe.to_csv(path, mode='a', header=False)\n",
    "    \n",
    "\n",
    "def createDataFrame(json_data):\n",
    "    json_normalized = pd.json_normalize(json_data)\n",
    "    dataframe = pd.DataFrame(json_normalized)\n",
    "    return dataframe\n",
    "\n",
    "#esempio\n",
    "path=\"data/dataframe.csv\"\n",
    "raw_data = api.get_user(\"Dio\")\n",
    "json_data = raw_data._json\n",
    "df = createDataFrame(json_data).to_csv(path)\n",
    "\n",
    "raw_data2 = api.get_user(\"mizzaro\")\n",
    "json_data2 = raw_data2._json\n",
    "dataFrameAppend(path, json_data2)\n",
    "\n",
    "pp.pprint(\"Done\")"
   ]
  },
  {
   "cell_type": "code",
   "execution_count": null,
   "metadata": {},
   "outputs": [],
   "source": [
    "#UNIONE JSON\n",
    "dic1 = read_json(\"data/Miccighel_FollowerIDs.json\")\n",
    "dic2 = read_json(\"data/Miccighel_FriendIDs.json\")\n",
    "dic = dic1 + dic2\n",
    "print(len(dic))\n",
    "\n",
    "dic = list(set(dic))\n",
    "print(len(dic))\n"
   ]
  },
  {
   "cell_type": "markdown",
   "metadata": {},
   "source": [
    "## 3. CINQUE FRIENDS RANDOM\n",
    "\n",
    "Scegliete 5 utenti following a caso tra quelli di ciascuno dei cinque account e\n",
    "scaricate ulteriori 10 utenti following (following dei following)\n"
   ]
  },
  {
   "cell_type": "markdown",
   "metadata": {},
   "source": [
    "## 4. DETTAGLI PROFILI\n",
    "Scaricare i dettagli del profilo di tutti gli utenti recuperati\n"
   ]
  },
  {
   "cell_type": "markdown",
   "metadata": {},
   "source": [
    "## 5. COSTRUIRE RETE SOCIALE\n",
    "Costruite la rete sociale (grafo):\n",
    "- Inserite l’id di ciascun utente come identificatore del nodo\n",
    "- Ogni arco rappresenta una relazione follows tra due utenti\n",
    "- Inserite i dettagli del profilo di ciascun utente come attributi del nodo\n",
    "- Inserite i membri del vostro gruppo come attributi del grafo\n",
    "- Per ogni nodo, aggiungete un attributo con il numero di follower individuati\n",
    "\n",
    "## 6.\n",
    "Producete una visualizzazione interattiva del grafo usando pyvis\n",
    "\n",
    "## 7.\n",
    "Verificate se il grafo:\n",
    "- è connesso (is_connected)\n",
    "- è bipartito (is_bipartite)\n",
    "\n",
    "## 8.\n",
    "Misurate le seguenti distanze sul grafo:\n",
    "- Centro (center)\n",
    "- Diametro (diameter)\n",
    "- Raggio (radius)\n",
    "\n",
    "## 9.\n",
    "Calcolate le seguenti misure di centralità sul grafo:\n",
    "- Betweenness centrality (betweenness_centrality)\n",
    "- Closeness centrality (closeness_centrality)\n",
    "- Degree centrality (degree_centrality)\n",
    "- In-degree centrality (in_degree_centrality)\n",
    "- Out-degree centrality (out_degree_centrality)\n",
    "- Page Rank (pagerank)\n",
    "- HITS (hits)\n",
    "\n",
    "## 10.\n",
    "Generate il sottografo indotto dal nodo damiano10 (ego_graph) e calcolate:\n",
    "- Cricca massima (max_clique)\n",
    "- Dimensione della cricca massima (large_clique_size)\n",
    "\n",
    "## 11.\n",
    "Calcolate la copertura minima degli archi (min_edge_cover) del grafo\n",
    "\n",
    "## 12.\n",
    "Calcolate i seguenti coefficienti per stimare la “small-world-ness” del grafo:\n",
    "- Coefficiente omega (omega)\n",
    "- Coefficiente sigma (sigma)\n",
    "\n",
    "## 13.\n",
    "Calcolare la correlazione di Pearson Rho e di Kendall Tau fra le misure di centralità;\n",
    "riportare il risultato in due tabelle"
   ]
  },
  {
   "cell_type": "code",
   "execution_count": null,
   "metadata": {},
   "outputs": [],
   "source": []
  }
 ],
 "metadata": {
  "kernelspec": {
   "display_name": "Python 3",
   "language": "python",
   "name": "python3"
  },
  "language_info": {
   "codemirror_mode": {
    "name": "ipython",
    "version": 3
   },
   "file_extension": ".py",
   "mimetype": "text/x-python",
   "name": "python",
   "nbconvert_exporter": "python",
   "pygments_lexer": "ipython3",
   "version": "3.8.3"
  }
 },
 "nbformat": 4,
 "nbformat_minor": 4
}
